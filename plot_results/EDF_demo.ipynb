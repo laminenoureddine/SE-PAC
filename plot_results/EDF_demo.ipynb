{
 "cells": [
  {
   "cell_type": "markdown",
   "metadata": {},
   "source": [
    "Demo steps:\n",
    "- Take 15 binaries from each packer family\n",
    "  - List these binaries\n",
    "- Make the extraction (PE parser + co-disassemble)\n",
    "  - Show only the extraction results\n",
    "- Apply distance meaures\n",
    "  - Show only a 4x4 of these distances matrix\n",
    "- Plot the distance matrix\n",
    "  - Plot the distance matrix\n",
    "- Use DBSCAN to group similar packed binaries based distances matrix\n",
    "  - Run the clustering and show the results\n",
    "- Plot the clusters in 2d and 3d\n",
    "  - Plot the clusters in 2d and 3d\n"
   ]
  },
  {
   "cell_type": "markdown",
   "metadata": {},
   "source": [
    "------------------------------------------------"
   ]
  },
  {
   "cell_type": "markdown",
   "metadata": {},
   "source": [
    "------------------------------------------------"
   ]
  },
  {
   "cell_type": "markdown",
   "metadata": {},
   "source": [
    "- List the dataset of packed bianries"
   ]
  },
  {
   "cell_type": "code",
   "execution_count": null,
   "metadata": {},
   "outputs": [],
   "source": [
    "%ls /home/lnouredd/Desktop/PhD/EDF_demo/dataset/edf_demo_binaries/consensus_*"
   ]
  },
  {
   "cell_type": "markdown",
   "metadata": {},
   "source": [
    "- Show only the extraction results"
   ]
  },
  {
   "cell_type": "code",
   "execution_count": null,
   "metadata": {},
   "outputs": [],
   "source": [
    "!tail -n +1 /home/lnouredd/Desktop/PhD/EDF_demo/dataset/codisasm_featfiles/consensus_*"
   ]
  },
  {
   "cell_type": "code",
   "execution_count": null,
   "metadata": {},
   "outputs": [],
   "source": [
    "!tail -n +4 /home/lnouredd/Desktop/PhD/EDF_demo/dataset/PE_featfiles/consensus_*"
   ]
  },
  {
   "cell_type": "markdown",
   "metadata": {},
   "source": [
    "- Show only a 4x4 of these distances matrix"
   ]
  },
  {
   "cell_type": "code",
   "execution_count": null,
   "metadata": {
    "scrolled": true
   },
   "outputs": [],
   "source": [
    "%cd /home/lnouredd/Desktop/PhD/EDF_demo/distances_matrix_extraction/distances_matrix\n",
    "\n",
    "import numpy as np\n",
    "gower_distances_matrix = np.loadtxt('gower_distances_matrix.txt')\n",
    "tapered_levenshtein_distances_matrix = np.loadtxt('tapered_levenshtein_distances_matrix.txt')\n",
    "final_averaged_distances_matrix = np.loadtxt('final_averaged_distances_matrix.txt')\n",
    "\n",
    "print '\\n', 'gower_distances_matrix:'\n",
    "print gower_distances_matrix[12:16, 12:16], '\\n'\n",
    "print 'tapered_levenshtein_distances_matrix:'\n",
    "print tapered_levenshtein_distances_matrix[12:16,12:16], '\\n'\n",
    "print 'final_averaged_distances_matrix:'\n",
    "print final_averaged_distances_matrix[12:16,12:16], '\\n'"
   ]
  },
  {
   "cell_type": "markdown",
   "metadata": {},
   "source": [
    "- Plot the distance matrix"
   ]
  },
  {
   "cell_type": "code",
   "execution_count": null,
   "metadata": {},
   "outputs": [],
   "source": [
    "%matplotlib inline\n",
    "%cd /home/lnouredd/Desktop/PhD/EDF_demo/plot_results/\n",
    "%run /home/lnouredd/Desktop/PhD/EDF_demo/plot_results/plot_distance_matrix.py"
   ]
  },
  {
   "cell_type": "markdown",
   "metadata": {
    "scrolled": true
   },
   "source": [
    "- Run the clustering and show the results"
   ]
  },
  {
   "cell_type": "code",
   "execution_count": null,
   "metadata": {},
   "outputs": [],
   "source": [
    "%cd /home/lnouredd/Desktop/PhD/EDF_demo/packers_clustering\n",
    "%run /home/lnouredd/Desktop/PhD/EDF_demo/packers_clustering/packers_clustering.py"
   ]
  },
  {
   "cell_type": "markdown",
   "metadata": {},
   "source": [
    "- Plot the clusters in 2d and 3d"
   ]
  },
  {
   "cell_type": "code",
   "execution_count": null,
   "metadata": {},
   "outputs": [],
   "source": [
    "%cd /home/lnouredd/Desktop/PhD/EDF_demo/plot_results\n",
    "%matplotlib inline\n",
    "%run /home/lnouredd/Desktop/PhD/EDF_demo/plot_results/plot_2d_clusers.py\n",
    "%run /home/lnouredd/Desktop/PhD/EDF_demo/plot_results/plot_3d_clusers.py"
   ]
  }
 ],
 "metadata": {
  "kernelspec": {
   "display_name": "Python 2",
   "language": "python",
   "name": "python2"
  },
  "language_info": {
   "codemirror_mode": {
    "name": "ipython",
    "version": 2
   },
   "file_extension": ".py",
   "mimetype": "text/x-python",
   "name": "python",
   "nbconvert_exporter": "python",
   "pygments_lexer": "ipython2",
   "version": "2.7.15"
  }
 },
 "nbformat": 4,
 "nbformat_minor": 2
}
